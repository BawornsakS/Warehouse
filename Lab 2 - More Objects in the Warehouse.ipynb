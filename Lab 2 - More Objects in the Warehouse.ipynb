{
 "cells": [
  {
   "cell_type": "markdown",
   "metadata": {},
   "source": [
    "# Lab 2: More Objects in the Warehouse\n",
    "\n",
    "## Part 1: Create a new class on your own\n",
    "\n",
    "In this lab, you will create a new class, and then we will use this class in the warehouse. The new class we are implementing is Product class. It will represent a product in a warehouse. Now, observe the Warehouse class, and create a Product class with this specification:\n",
    "\n",
    "1. Name of the class: ```Product```\n",
    "2. The constructor has 3 arguments: a product name, created date, expiration date\n",
    "3. A function called ```isExpired()``` which takes a date as an input and output True if the product is expired, and False otherwise.\n",
    "\n",
    "## Part 2: Integrating with the Warehouse\n",
    "\n",
    "Refer to Lab 1 Exercise 1, instead of adding a string into the warehouse, add all of them as a product object. \n",
    "\n",
    "## Part 3: Get rid of some trashes\n",
    "Now, you will implement a function in Warehouse class called \n",
    "```python\n",
    "getRidOfTrashes() \n",
    "```\n",
    "which takes 1 argument called ```date```. The warehouse should remove every expired product from the warehouse.\n",
    "\n",
    "ps. Expired product is a product which, ```date``` passed ```expiration date``` of the product."
   ]
  }
 ],
 "metadata": {
  "kernelspec": {
   "display_name": "Python 3",
   "language": "python",
   "name": "python3"
  },
  "language_info": {
   "codemirror_mode": {
    "name": "ipython",
    "version": 3
   },
   "file_extension": ".py",
   "mimetype": "text/x-python",
   "name": "python",
   "nbconvert_exporter": "python",
   "pygments_lexer": "ipython3",
   "version": "3.6.6"
  }
 },
 "nbformat": 4,
 "nbformat_minor": 2
}
