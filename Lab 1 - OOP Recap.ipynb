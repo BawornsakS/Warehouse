{
 "cells": [
  {
   "cell_type": "markdown",
   "metadata": {},
   "source": [
    "# Lab 1: OOP Recap\n",
    "\n",
    "## Part 1: OOP in Python\n",
    "In this part, we will recap programming OOP in python. We will use the legendary warehouse exercise as a tutorial. \n",
    "\n",
    "Let's look at the code below first."
   ]
  },
  {
   "cell_type": "code",
   "execution_count": null,
   "metadata": {
    "collapsed": false
   },
   "outputs": [],
   "source": [
    "class Warehouse:\n",
    "    \n",
    "    def __init__(self):\n",
    "        self.row = []         #This represents a list of rows in a warehouse.\n",
    "    \n",
    "    def addRow(self):\n",
    "        self.row.append([])\n",
    "\n",
    "    def addProduct(self, r, product):\n",
    "        self.row[r].append(product)"
   ]
  },
  {
   "cell_type": "markdown",
   "metadata": {},
   "source": [
    "The code above is a simple Warehouse class. The first line tells us that we are creating a new class called Warehouse. This class contains 3 functions. Let's look at each of them. "
   ]
  },
  {
   "cell_type": "code",
   "execution_count": null,
   "metadata": {
    "collapsed": true
   },
   "outputs": [],
   "source": [
    "    def __init__(self):\n",
    "        self.row = []         #This represents a list of rows in a warehouse."
   ]
  },
  {
   "cell_type": "markdown",
   "metadata": {},
   "source": [
    "The first function is called a __constructor__. It can be used to create a warehouse object. It has 1 variable called __row__. This variable is a list of all rows in a warehouse. For now, __row__ is empty."
   ]
  },
  {
   "cell_type": "code",
   "execution_count": null,
   "metadata": {
    "collapsed": true
   },
   "outputs": [],
   "source": [
    "    def addRow(self):\n",
    "        self.row.append([])"
   ]
  },
  {
   "cell_type": "markdown",
   "metadata": {},
   "source": [
    "The second function is called __addRow__. It can be used to add an empty row into the warehouse. self.row returns the variable __row__ of this warehouse, and appends an empty list into that variable."
   ]
  },
  {
   "cell_type": "code",
   "execution_count": null,
   "metadata": {
    "collapsed": true
   },
   "outputs": [],
   "source": [
    "    def addProduct(self, r, product):\n",
    "        self.row[r].append(product)"
   ]
  },
  {
   "cell_type": "markdown",
   "metadata": {},
   "source": [
    "The third function is called __addProduct__. We can add a product into any row, __r__, that we want. This function takes two parameters in: a row, __r__, and a name of a product, __product__.\n",
    "\n",
    "Now, let's create a warehouse object. We can use the following code to do it."
   ]
  },
  {
   "cell_type": "code",
   "execution_count": null,
   "metadata": {
    "collapsed": false
   },
   "outputs": [],
   "source": [
    "w = Warehouse()"
   ]
  },
  {
   "cell_type": "markdown",
   "metadata": {},
   "source": [
    "Next, let's add a row into our warehouse by using the following command."
   ]
  },
  {
   "cell_type": "code",
   "execution_count": null,
   "metadata": {
    "collapsed": false
   },
   "outputs": [],
   "source": [
    "w.addRow()"
   ]
  },
  {
   "cell_type": "markdown",
   "metadata": {},
   "source": [
    "Let's input some product into our row by executing the following code."
   ]
  },
  {
   "cell_type": "code",
   "execution_count": null,
   "metadata": {
    "collapsed": false
   },
   "outputs": [],
   "source": [
    "w.addProduct(0,\"Razer Keyboard\")"
   ]
  },
  {
   "cell_type": "markdown",
   "metadata": {},
   "source": [
    "Now, it is the time to test our warehouse. Run the following code:"
   ]
  },
  {
   "cell_type": "code",
   "execution_count": null,
   "metadata": {
    "collapsed": false
   },
   "outputs": [],
   "source": [
    "w.row"
   ]
  },
  {
   "cell_type": "markdown",
   "metadata": {},
   "source": [
    "What do you see? Congratulations! You create a class and use it via an object. Now, It is your challenges. \n",
    "\n",
    "#### Part 1:\n",
    "Add 2 more rows, and add the following items into the warehouse.\n",
    "\n",
    "1. Add \"Logitech Mouse\" into row 1.\n",
    "2. Add \"GTX 1080 Ti\" into row 2.\n",
    "3. Add \"GTX 1060\" into row 2.\n",
    "4. Add \"Crappy Graphic Card\" into row 2.\n",
    "5. Add \"Crappy, ancient keyboard\" into row 0.\n",
    "\n",
    "then use w.row to check your result.\n",
    "\n",
    "#### Part 2:\n",
    "We can add a product into our warehouse, now lets remove it. Write a new function using this heading:"
   ]
  },
  {
   "cell_type": "code",
   "execution_count": null,
   "metadata": {
    "collapsed": false
   },
   "outputs": [],
   "source": [
    "def removeProduct(self, r):\n",
    "    \n",
    "    #Modify the following code\n",
    "    product = 0\n",
    "    #------------------------- hint: there is a function to manipulate an element in a list.\n",
    "    \n",
    "    \n",
    "    return product"
   ]
  },
  {
   "cell_type": "markdown",
   "metadata": {},
   "source": [
    "This fucntion must remove the first object from row __r__ and return that product. For example, if we run:"
   ]
  },
  {
   "cell_type": "code",
   "execution_count": null,
   "metadata": {
    "collapsed": false
   },
   "outputs": [],
   "source": [
    "print(w.removeProduct(0))"
   ]
  },
  {
   "cell_type": "markdown",
   "metadata": {},
   "source": [
    "it should output:\n",
    "'Razer Keyboard'"
   ]
  }
 ],
 "metadata": {
  "kernelspec": {
   "display_name": "Python 3",
   "language": "python",
   "name": "python3"
  },
  "language_info": {
   "codemirror_mode": {
    "name": "ipython",
    "version": 3
   },
   "file_extension": ".py",
   "mimetype": "text/x-python",
   "name": "python",
   "nbconvert_exporter": "python",
   "pygments_lexer": "ipython3",
   "version": "3.6.0"
  }
 },
 "nbformat": 4,
 "nbformat_minor": 2
}
